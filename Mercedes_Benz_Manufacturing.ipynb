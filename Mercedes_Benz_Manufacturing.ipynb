{
 "cells": [
  {
   "cell_type": "markdown",
   "id": "ff8ab44e",
   "metadata": {},
   "source": [
    "# Mercedes-Benz Greener Manufacturing"
   ]
  },
  {
   "cell_type": "code",
   "execution_count": null,
   "id": "07039195",
   "metadata": {},
   "outputs": [],
   "source": [
    "# Step1: Import the required libraries\n",
    "\n",
    "# linear algebra"
   ]
  },
  {
   "cell_type": "code",
   "execution_count": 2,
   "id": "2fc30284",
   "metadata": {},
   "outputs": [],
   "source": [
    "import pandas as pd\n",
    "import numpy as np\n",
    "from sklearn.decomposition import PCA"
   ]
  },
  {
   "cell_type": "code",
   "execution_count": null,
   "id": "d818db5f",
   "metadata": {},
   "outputs": [],
   "source": [
    "# Step2: Read the data from train.csv"
   ]
  },
  {
   "cell_type": "code",
   "execution_count": 3,
   "id": "d8671429",
   "metadata": {},
   "outputs": [],
   "source": [
    "df_train=pd.read_csv(\"F:\\\\A_Machine_Learning_Projects\\\\Mercedes_Benz\\\\train.csv\")"
   ]
  },
  {
   "cell_type": "code",
   "execution_count": 5,
   "id": "fea3bf89",
   "metadata": {},
   "outputs": [],
   "source": [
    "# Understanding df_train data"
   ]
  },
  {
   "cell_type": "code",
   "execution_count": 4,
   "id": "ebe4a99c",
   "metadata": {},
   "outputs": [
    {
     "data": {
      "text/plain": [
       "(4209, 378)"
      ]
     },
     "execution_count": 4,
     "metadata": {},
     "output_type": "execute_result"
    }
   ],
   "source": [
    "df_train.shape"
   ]
  },
  {
   "cell_type": "code",
   "execution_count": 5,
   "id": "11c4f976",
   "metadata": {},
   "outputs": [
    {
     "data": {
      "text/html": [
       "<div>\n",
       "<style scoped>\n",
       "    .dataframe tbody tr th:only-of-type {\n",
       "        vertical-align: middle;\n",
       "    }\n",
       "\n",
       "    .dataframe tbody tr th {\n",
       "        vertical-align: top;\n",
       "    }\n",
       "\n",
       "    .dataframe thead th {\n",
       "        text-align: right;\n",
       "    }\n",
       "</style>\n",
       "<table border=\"1\" class=\"dataframe\">\n",
       "  <thead>\n",
       "    <tr style=\"text-align: right;\">\n",
       "      <th></th>\n",
       "      <th>ID</th>\n",
       "      <th>y</th>\n",
       "      <th>X0</th>\n",
       "      <th>X1</th>\n",
       "      <th>X2</th>\n",
       "      <th>X3</th>\n",
       "      <th>X4</th>\n",
       "      <th>X5</th>\n",
       "      <th>X6</th>\n",
       "      <th>X8</th>\n",
       "      <th>...</th>\n",
       "      <th>X375</th>\n",
       "      <th>X376</th>\n",
       "      <th>X377</th>\n",
       "      <th>X378</th>\n",
       "      <th>X379</th>\n",
       "      <th>X380</th>\n",
       "      <th>X382</th>\n",
       "      <th>X383</th>\n",
       "      <th>X384</th>\n",
       "      <th>X385</th>\n",
       "    </tr>\n",
       "  </thead>\n",
       "  <tbody>\n",
       "    <tr>\n",
       "      <th>0</th>\n",
       "      <td>0</td>\n",
       "      <td>130.81</td>\n",
       "      <td>k</td>\n",
       "      <td>v</td>\n",
       "      <td>at</td>\n",
       "      <td>a</td>\n",
       "      <td>d</td>\n",
       "      <td>u</td>\n",
       "      <td>j</td>\n",
       "      <td>o</td>\n",
       "      <td>...</td>\n",
       "      <td>0</td>\n",
       "      <td>0</td>\n",
       "      <td>1</td>\n",
       "      <td>0</td>\n",
       "      <td>0</td>\n",
       "      <td>0</td>\n",
       "      <td>0</td>\n",
       "      <td>0</td>\n",
       "      <td>0</td>\n",
       "      <td>0</td>\n",
       "    </tr>\n",
       "    <tr>\n",
       "      <th>1</th>\n",
       "      <td>6</td>\n",
       "      <td>88.53</td>\n",
       "      <td>k</td>\n",
       "      <td>t</td>\n",
       "      <td>av</td>\n",
       "      <td>e</td>\n",
       "      <td>d</td>\n",
       "      <td>y</td>\n",
       "      <td>l</td>\n",
       "      <td>o</td>\n",
       "      <td>...</td>\n",
       "      <td>1</td>\n",
       "      <td>0</td>\n",
       "      <td>0</td>\n",
       "      <td>0</td>\n",
       "      <td>0</td>\n",
       "      <td>0</td>\n",
       "      <td>0</td>\n",
       "      <td>0</td>\n",
       "      <td>0</td>\n",
       "      <td>0</td>\n",
       "    </tr>\n",
       "    <tr>\n",
       "      <th>2</th>\n",
       "      <td>7</td>\n",
       "      <td>76.26</td>\n",
       "      <td>az</td>\n",
       "      <td>w</td>\n",
       "      <td>n</td>\n",
       "      <td>c</td>\n",
       "      <td>d</td>\n",
       "      <td>x</td>\n",
       "      <td>j</td>\n",
       "      <td>x</td>\n",
       "      <td>...</td>\n",
       "      <td>0</td>\n",
       "      <td>0</td>\n",
       "      <td>0</td>\n",
       "      <td>0</td>\n",
       "      <td>0</td>\n",
       "      <td>0</td>\n",
       "      <td>1</td>\n",
       "      <td>0</td>\n",
       "      <td>0</td>\n",
       "      <td>0</td>\n",
       "    </tr>\n",
       "    <tr>\n",
       "      <th>3</th>\n",
       "      <td>9</td>\n",
       "      <td>80.62</td>\n",
       "      <td>az</td>\n",
       "      <td>t</td>\n",
       "      <td>n</td>\n",
       "      <td>f</td>\n",
       "      <td>d</td>\n",
       "      <td>x</td>\n",
       "      <td>l</td>\n",
       "      <td>e</td>\n",
       "      <td>...</td>\n",
       "      <td>0</td>\n",
       "      <td>0</td>\n",
       "      <td>0</td>\n",
       "      <td>0</td>\n",
       "      <td>0</td>\n",
       "      <td>0</td>\n",
       "      <td>0</td>\n",
       "      <td>0</td>\n",
       "      <td>0</td>\n",
       "      <td>0</td>\n",
       "    </tr>\n",
       "    <tr>\n",
       "      <th>4</th>\n",
       "      <td>13</td>\n",
       "      <td>78.02</td>\n",
       "      <td>az</td>\n",
       "      <td>v</td>\n",
       "      <td>n</td>\n",
       "      <td>f</td>\n",
       "      <td>d</td>\n",
       "      <td>h</td>\n",
       "      <td>d</td>\n",
       "      <td>n</td>\n",
       "      <td>...</td>\n",
       "      <td>0</td>\n",
       "      <td>0</td>\n",
       "      <td>0</td>\n",
       "      <td>0</td>\n",
       "      <td>0</td>\n",
       "      <td>0</td>\n",
       "      <td>0</td>\n",
       "      <td>0</td>\n",
       "      <td>0</td>\n",
       "      <td>0</td>\n",
       "    </tr>\n",
       "  </tbody>\n",
       "</table>\n",
       "<p>5 rows × 378 columns</p>\n",
       "</div>"
      ],
      "text/plain": [
       "   ID       y  X0 X1  X2 X3 X4 X5 X6 X8  ...  X375  X376  X377  X378  X379  \\\n",
       "0   0  130.81   k  v  at  a  d  u  j  o  ...     0     0     1     0     0   \n",
       "1   6   88.53   k  t  av  e  d  y  l  o  ...     1     0     0     0     0   \n",
       "2   7   76.26  az  w   n  c  d  x  j  x  ...     0     0     0     0     0   \n",
       "3   9   80.62  az  t   n  f  d  x  l  e  ...     0     0     0     0     0   \n",
       "4  13   78.02  az  v   n  f  d  h  d  n  ...     0     0     0     0     0   \n",
       "\n",
       "   X380  X382  X383  X384  X385  \n",
       "0     0     0     0     0     0  \n",
       "1     0     0     0     0     0  \n",
       "2     0     1     0     0     0  \n",
       "3     0     0     0     0     0  \n",
       "4     0     0     0     0     0  \n",
       "\n",
       "[5 rows x 378 columns]"
      ]
     },
     "execution_count": 5,
     "metadata": {},
     "output_type": "execute_result"
    }
   ],
   "source": [
    "df_train.head()"
   ]
  },
  {
   "cell_type": "code",
   "execution_count": null,
   "id": "170b771f",
   "metadata": {},
   "outputs": [],
   "source": [
    "# Step3: Collect the Y values into an array\n",
    "\n",
    "# seperate the y from the data as we will use this to learn as \n",
    "# the prediction output"
   ]
  },
  {
   "cell_type": "code",
   "execution_count": 6,
   "id": "ec2beb87",
   "metadata": {},
   "outputs": [],
   "source": [
    "# seperate the target column from the data\n",
    "y_train=df_train['y'].values"
   ]
  },
  {
   "cell_type": "code",
   "execution_count": 7,
   "id": "f5df80d5",
   "metadata": {},
   "outputs": [
    {
     "data": {
      "text/plain": [
       "(4209,)"
      ]
     },
     "execution_count": 7,
     "metadata": {},
     "output_type": "execute_result"
    }
   ],
   "source": [
    "y_train.shape"
   ]
  },
  {
   "cell_type": "code",
   "execution_count": null,
   "id": "714ed3d2",
   "metadata": {},
   "outputs": [],
   "source": [
    "# Step4: Understand the data types we have\n",
    "\n",
    "# iterate through all the columns which has X in the name of the column"
   ]
  },
  {
   "cell_type": "code",
   "execution_count": 9,
   "id": "2df4e086",
   "metadata": {},
   "outputs": [
    {
     "name": "stdout",
     "output_type": "stream",
     "text": [
      "Number of features: 376\n",
      "Feature types:\n"
     ]
    },
    {
     "data": {
      "text/plain": [
       "int64     368\n",
       "object      8\n",
       "dtype: int64"
      ]
     },
     "execution_count": 9,
     "metadata": {},
     "output_type": "execute_result"
    }
   ],
   "source": [
    "# iterate through all the columns which has X in the name of the column\n",
    "cols=[c for c in df_train.columns if 'X' in c]\n",
    "print('Number of features: {}'.format(len(cols)))\n",
    "print('Feature types:')\n",
    "df_train[cols].dtypes.value_counts()"
   ]
  },
  {
   "cell_type": "code",
   "execution_count": null,
   "id": "3c77899c",
   "metadata": {},
   "outputs": [],
   "source": [
    "# Step5: Count the data in each of the columns"
   ]
  },
  {
   "cell_type": "code",
   "execution_count": 10,
   "id": "99ec3a3c",
   "metadata": {},
   "outputs": [],
   "source": [
    "counts = [[], [], []]\n",
    "for c in cols:\n",
    "    typ = df_train[c].dtype\n",
    "    uniq = len(np.unique(df_train[c]))\n",
    "    if uniq == 1:\n",
    "        counts[0].append(c)\n",
    "    elif uniq == 2 and typ == np.int64:\n",
    "        counts[1].append(c)\n",
    "    else:\n",
    "        counts[2].append(c)"
   ]
  },
  {
   "cell_type": "code",
   "execution_count": 11,
   "id": "170453ff",
   "metadata": {},
   "outputs": [
    {
     "name": "stdout",
     "output_type": "stream",
     "text": [
      "Constant features: 12 Binary features: 356 Categorical features: 8\n",
      "\n"
     ]
    }
   ],
   "source": [
    "print('Constant features: {} Binary features: {} Categorical features: {}\\n'.format(*[len(c) for c in counts]))"
   ]
  },
  {
   "cell_type": "code",
   "execution_count": 12,
   "id": "71548ee6",
   "metadata": {},
   "outputs": [
    {
     "name": "stdout",
     "output_type": "stream",
     "text": [
      "Constant features: ['X11', 'X93', 'X107', 'X233', 'X235', 'X268', 'X289', 'X290', 'X293', 'X297', 'X330', 'X347']\n"
     ]
    }
   ],
   "source": [
    "print('Constant features:', counts[0])"
   ]
  },
  {
   "cell_type": "code",
   "execution_count": 13,
   "id": "e0d90670",
   "metadata": {},
   "outputs": [
    {
     "name": "stdout",
     "output_type": "stream",
     "text": [
      "Categorical features: ['X0', 'X1', 'X2', 'X3', 'X4', 'X5', 'X6', 'X8']\n"
     ]
    }
   ],
   "source": [
    "print('Categorical features:', counts[2])"
   ]
  },
  {
   "cell_type": "code",
   "execution_count": null,
   "id": "26c6a68f",
   "metadata": {},
   "outputs": [],
   "source": [
    "# Step6: Read the test.csv data"
   ]
  },
  {
   "cell_type": "code",
   "execution_count": 22,
   "id": "9192d373",
   "metadata": {},
   "outputs": [],
   "source": [
    "df_test=pd.read_csv(\"F:\\\\A_Machine_Learning_Projects\\\\Mercedes_Benz\\\\test.csv\")"
   ]
  },
  {
   "cell_type": "code",
   "execution_count": 23,
   "id": "6d6ff03f",
   "metadata": {},
   "outputs": [
    {
     "data": {
      "text/html": [
       "<div>\n",
       "<style scoped>\n",
       "    .dataframe tbody tr th:only-of-type {\n",
       "        vertical-align: middle;\n",
       "    }\n",
       "\n",
       "    .dataframe tbody tr th {\n",
       "        vertical-align: top;\n",
       "    }\n",
       "\n",
       "    .dataframe thead th {\n",
       "        text-align: right;\n",
       "    }\n",
       "</style>\n",
       "<table border=\"1\" class=\"dataframe\">\n",
       "  <thead>\n",
       "    <tr style=\"text-align: right;\">\n",
       "      <th></th>\n",
       "      <th>ID</th>\n",
       "      <th>X0</th>\n",
       "      <th>X1</th>\n",
       "      <th>X2</th>\n",
       "      <th>X3</th>\n",
       "      <th>X4</th>\n",
       "      <th>X5</th>\n",
       "      <th>X6</th>\n",
       "      <th>X8</th>\n",
       "      <th>X10</th>\n",
       "      <th>...</th>\n",
       "      <th>X375</th>\n",
       "      <th>X376</th>\n",
       "      <th>X377</th>\n",
       "      <th>X378</th>\n",
       "      <th>X379</th>\n",
       "      <th>X380</th>\n",
       "      <th>X382</th>\n",
       "      <th>X383</th>\n",
       "      <th>X384</th>\n",
       "      <th>X385</th>\n",
       "    </tr>\n",
       "  </thead>\n",
       "  <tbody>\n",
       "    <tr>\n",
       "      <th>0</th>\n",
       "      <td>1</td>\n",
       "      <td>az</td>\n",
       "      <td>v</td>\n",
       "      <td>n</td>\n",
       "      <td>f</td>\n",
       "      <td>d</td>\n",
       "      <td>t</td>\n",
       "      <td>a</td>\n",
       "      <td>w</td>\n",
       "      <td>0</td>\n",
       "      <td>...</td>\n",
       "      <td>0</td>\n",
       "      <td>0</td>\n",
       "      <td>0</td>\n",
       "      <td>1</td>\n",
       "      <td>0</td>\n",
       "      <td>0</td>\n",
       "      <td>0</td>\n",
       "      <td>0</td>\n",
       "      <td>0</td>\n",
       "      <td>0</td>\n",
       "    </tr>\n",
       "    <tr>\n",
       "      <th>1</th>\n",
       "      <td>2</td>\n",
       "      <td>t</td>\n",
       "      <td>b</td>\n",
       "      <td>ai</td>\n",
       "      <td>a</td>\n",
       "      <td>d</td>\n",
       "      <td>b</td>\n",
       "      <td>g</td>\n",
       "      <td>y</td>\n",
       "      <td>0</td>\n",
       "      <td>...</td>\n",
       "      <td>0</td>\n",
       "      <td>0</td>\n",
       "      <td>1</td>\n",
       "      <td>0</td>\n",
       "      <td>0</td>\n",
       "      <td>0</td>\n",
       "      <td>0</td>\n",
       "      <td>0</td>\n",
       "      <td>0</td>\n",
       "      <td>0</td>\n",
       "    </tr>\n",
       "    <tr>\n",
       "      <th>2</th>\n",
       "      <td>3</td>\n",
       "      <td>az</td>\n",
       "      <td>v</td>\n",
       "      <td>as</td>\n",
       "      <td>f</td>\n",
       "      <td>d</td>\n",
       "      <td>a</td>\n",
       "      <td>j</td>\n",
       "      <td>j</td>\n",
       "      <td>0</td>\n",
       "      <td>...</td>\n",
       "      <td>0</td>\n",
       "      <td>0</td>\n",
       "      <td>0</td>\n",
       "      <td>1</td>\n",
       "      <td>0</td>\n",
       "      <td>0</td>\n",
       "      <td>0</td>\n",
       "      <td>0</td>\n",
       "      <td>0</td>\n",
       "      <td>0</td>\n",
       "    </tr>\n",
       "    <tr>\n",
       "      <th>3</th>\n",
       "      <td>4</td>\n",
       "      <td>az</td>\n",
       "      <td>l</td>\n",
       "      <td>n</td>\n",
       "      <td>f</td>\n",
       "      <td>d</td>\n",
       "      <td>z</td>\n",
       "      <td>l</td>\n",
       "      <td>n</td>\n",
       "      <td>0</td>\n",
       "      <td>...</td>\n",
       "      <td>0</td>\n",
       "      <td>0</td>\n",
       "      <td>0</td>\n",
       "      <td>1</td>\n",
       "      <td>0</td>\n",
       "      <td>0</td>\n",
       "      <td>0</td>\n",
       "      <td>0</td>\n",
       "      <td>0</td>\n",
       "      <td>0</td>\n",
       "    </tr>\n",
       "    <tr>\n",
       "      <th>4</th>\n",
       "      <td>5</td>\n",
       "      <td>w</td>\n",
       "      <td>s</td>\n",
       "      <td>as</td>\n",
       "      <td>c</td>\n",
       "      <td>d</td>\n",
       "      <td>y</td>\n",
       "      <td>i</td>\n",
       "      <td>m</td>\n",
       "      <td>0</td>\n",
       "      <td>...</td>\n",
       "      <td>1</td>\n",
       "      <td>0</td>\n",
       "      <td>0</td>\n",
       "      <td>0</td>\n",
       "      <td>0</td>\n",
       "      <td>0</td>\n",
       "      <td>0</td>\n",
       "      <td>0</td>\n",
       "      <td>0</td>\n",
       "      <td>0</td>\n",
       "    </tr>\n",
       "  </tbody>\n",
       "</table>\n",
       "<p>5 rows × 377 columns</p>\n",
       "</div>"
      ],
      "text/plain": [
       "   ID  X0 X1  X2 X3 X4 X5 X6 X8  X10  ...  X375  X376  X377  X378  X379  X380  \\\n",
       "0   1  az  v   n  f  d  t  a  w    0  ...     0     0     0     1     0     0   \n",
       "1   2   t  b  ai  a  d  b  g  y    0  ...     0     0     1     0     0     0   \n",
       "2   3  az  v  as  f  d  a  j  j    0  ...     0     0     0     1     0     0   \n",
       "3   4  az  l   n  f  d  z  l  n    0  ...     0     0     0     1     0     0   \n",
       "4   5   w  s  as  c  d  y  i  m    0  ...     1     0     0     0     0     0   \n",
       "\n",
       "   X382  X383  X384  X385  \n",
       "0     0     0     0     0  \n",
       "1     0     0     0     0  \n",
       "2     0     0     0     0  \n",
       "3     0     0     0     0  \n",
       "4     0     0     0     0  \n",
       "\n",
       "[5 rows x 377 columns]"
      ]
     },
     "execution_count": 23,
     "metadata": {},
     "output_type": "execute_result"
    }
   ],
   "source": [
    "df_test.head()"
   ]
  },
  {
   "cell_type": "code",
   "execution_count": 24,
   "id": "230a7bbb",
   "metadata": {},
   "outputs": [],
   "source": [
    "# remove columns ID and Y from the data as they are not used for learning\n",
    "usable_columns = list(set(df_train.columns) - set(['ID', 'y']))\n",
    "y_train = df_train['y'].values\n"
   ]
  },
  {
   "cell_type": "code",
   "execution_count": 26,
   "id": "eff5bd50",
   "metadata": {},
   "outputs": [],
   "source": [
    "id_test = df_test['ID'].values"
   ]
  },
  {
   "cell_type": "code",
   "execution_count": 27,
   "id": "4a48b08b",
   "metadata": {},
   "outputs": [],
   "source": [
    "x_train = df_train[usable_columns]\n",
    "x_test = df_test[usable_columns]"
   ]
  },
  {
   "cell_type": "code",
   "execution_count": 45,
   "id": "0feba91b",
   "metadata": {},
   "outputs": [],
   "source": [
    "# Step7: Check for null and unique values for test and train sets"
   ]
  },
  {
   "cell_type": "code",
   "execution_count": 28,
   "id": "c0848ccd",
   "metadata": {},
   "outputs": [
    {
     "name": "stdout",
     "output_type": "stream",
     "text": [
      "There are no missing values in the dataframe\n",
      "There are no missing values in the dataframe\n"
     ]
    }
   ],
   "source": [
    "def check_missing_values(df):\n",
    "    if df.isnull().any().any():\n",
    "        print(\"There are missing values in the dataframe\")\n",
    "    else:\n",
    "        print(\"There are no missing values in the dataframe\")\n",
    "check_missing_values(x_train)\n",
    "check_missing_values(x_test)"
   ]
  },
  {
   "cell_type": "code",
   "execution_count": null,
   "id": "2be5c1cb",
   "metadata": {},
   "outputs": [],
   "source": [
    "# Step8: If for any column(s), the variance is equal to zero, \n",
    "# then you need to remove those variable(s).\n",
    "# Apply label encoder"
   ]
  },
  {
   "cell_type": "code",
   "execution_count": 29,
   "id": "85c041a9",
   "metadata": {},
   "outputs": [
    {
     "name": "stderr",
     "output_type": "stream",
     "text": [
      "C:\\Users\\Amit\\AppData\\Local\\Temp/ipykernel_9432/1773519019.py:9: SettingWithCopyWarning: \n",
      "A value is trying to be set on a copy of a slice from a DataFrame.\n",
      "Try using .loc[row_indexer,col_indexer] = value instead\n",
      "\n",
      "See the caveats in the documentation: https://pandas.pydata.org/pandas-docs/stable/user_guide/indexing.html#returning-a-view-versus-a-copy\n",
      "  x_train[column] = x_train[column].apply(mapper)\n",
      "C:\\Users\\Amit\\AppData\\Local\\Temp/ipykernel_9432/1773519019.py:10: SettingWithCopyWarning: \n",
      "A value is trying to be set on a copy of a slice from a DataFrame.\n",
      "Try using .loc[row_indexer,col_indexer] = value instead\n",
      "\n",
      "See the caveats in the documentation: https://pandas.pydata.org/pandas-docs/stable/user_guide/indexing.html#returning-a-view-versus-a-copy\n",
      "  x_test[column] = x_test[column].apply(mapper)\n"
     ]
    }
   ],
   "source": [
    "for column in usable_columns:\n",
    "    cardinality = len(np.unique(x_train[column]))\n",
    "    if cardinality == 1:\n",
    "        x_train.drop(column, axis=1) # Column with only one \n",
    "        # value is useless so we drop it\n",
    "        x_test.drop(column, axis=1)\n",
    "    if cardinality > 2: # Column is categorical\n",
    "        mapper = lambda x: sum([ord(digit) for digit in x])\n",
    "        x_train[column] = x_train[column].apply(mapper)\n",
    "        x_test[column] = x_test[column].apply(mapper)"
   ]
  },
  {
   "cell_type": "code",
   "execution_count": 30,
   "id": "cde7ab6a",
   "metadata": {},
   "outputs": [
    {
     "data": {
      "text/html": [
       "<div>\n",
       "<style scoped>\n",
       "    .dataframe tbody tr th:only-of-type {\n",
       "        vertical-align: middle;\n",
       "    }\n",
       "\n",
       "    .dataframe tbody tr th {\n",
       "        vertical-align: top;\n",
       "    }\n",
       "\n",
       "    .dataframe thead th {\n",
       "        text-align: right;\n",
       "    }\n",
       "</style>\n",
       "<table border=\"1\" class=\"dataframe\">\n",
       "  <thead>\n",
       "    <tr style=\"text-align: right;\">\n",
       "      <th></th>\n",
       "      <th>X49</th>\n",
       "      <th>X139</th>\n",
       "      <th>X46</th>\n",
       "      <th>X304</th>\n",
       "      <th>X27</th>\n",
       "      <th>X225</th>\n",
       "      <th>X116</th>\n",
       "      <th>X119</th>\n",
       "      <th>X169</th>\n",
       "      <th>X64</th>\n",
       "      <th>...</th>\n",
       "      <th>X359</th>\n",
       "      <th>X369</th>\n",
       "      <th>X132</th>\n",
       "      <th>X90</th>\n",
       "      <th>X152</th>\n",
       "      <th>X176</th>\n",
       "      <th>X155</th>\n",
       "      <th>X83</th>\n",
       "      <th>X310</th>\n",
       "      <th>X150</th>\n",
       "    </tr>\n",
       "  </thead>\n",
       "  <tbody>\n",
       "    <tr>\n",
       "      <th>0</th>\n",
       "      <td>0</td>\n",
       "      <td>0</td>\n",
       "      <td>1</td>\n",
       "      <td>0</td>\n",
       "      <td>0</td>\n",
       "      <td>0</td>\n",
       "      <td>1</td>\n",
       "      <td>1</td>\n",
       "      <td>0</td>\n",
       "      <td>0</td>\n",
       "      <td>...</td>\n",
       "      <td>0</td>\n",
       "      <td>0</td>\n",
       "      <td>0</td>\n",
       "      <td>0</td>\n",
       "      <td>0</td>\n",
       "      <td>0</td>\n",
       "      <td>0</td>\n",
       "      <td>0</td>\n",
       "      <td>0</td>\n",
       "      <td>1</td>\n",
       "    </tr>\n",
       "    <tr>\n",
       "      <th>1</th>\n",
       "      <td>0</td>\n",
       "      <td>0</td>\n",
       "      <td>0</td>\n",
       "      <td>1</td>\n",
       "      <td>1</td>\n",
       "      <td>0</td>\n",
       "      <td>0</td>\n",
       "      <td>1</td>\n",
       "      <td>0</td>\n",
       "      <td>0</td>\n",
       "      <td>...</td>\n",
       "      <td>0</td>\n",
       "      <td>0</td>\n",
       "      <td>1</td>\n",
       "      <td>0</td>\n",
       "      <td>0</td>\n",
       "      <td>0</td>\n",
       "      <td>0</td>\n",
       "      <td>0</td>\n",
       "      <td>0</td>\n",
       "      <td>1</td>\n",
       "    </tr>\n",
       "    <tr>\n",
       "      <th>2</th>\n",
       "      <td>0</td>\n",
       "      <td>0</td>\n",
       "      <td>1</td>\n",
       "      <td>1</td>\n",
       "      <td>1</td>\n",
       "      <td>0</td>\n",
       "      <td>0</td>\n",
       "      <td>0</td>\n",
       "      <td>1</td>\n",
       "      <td>0</td>\n",
       "      <td>...</td>\n",
       "      <td>0</td>\n",
       "      <td>0</td>\n",
       "      <td>1</td>\n",
       "      <td>0</td>\n",
       "      <td>0</td>\n",
       "      <td>0</td>\n",
       "      <td>0</td>\n",
       "      <td>0</td>\n",
       "      <td>0</td>\n",
       "      <td>1</td>\n",
       "    </tr>\n",
       "    <tr>\n",
       "      <th>3</th>\n",
       "      <td>0</td>\n",
       "      <td>0</td>\n",
       "      <td>1</td>\n",
       "      <td>1</td>\n",
       "      <td>1</td>\n",
       "      <td>0</td>\n",
       "      <td>0</td>\n",
       "      <td>0</td>\n",
       "      <td>0</td>\n",
       "      <td>0</td>\n",
       "      <td>...</td>\n",
       "      <td>0</td>\n",
       "      <td>0</td>\n",
       "      <td>1</td>\n",
       "      <td>0</td>\n",
       "      <td>0</td>\n",
       "      <td>0</td>\n",
       "      <td>0</td>\n",
       "      <td>0</td>\n",
       "      <td>0</td>\n",
       "      <td>1</td>\n",
       "    </tr>\n",
       "    <tr>\n",
       "      <th>4</th>\n",
       "      <td>0</td>\n",
       "      <td>0</td>\n",
       "      <td>1</td>\n",
       "      <td>1</td>\n",
       "      <td>1</td>\n",
       "      <td>0</td>\n",
       "      <td>0</td>\n",
       "      <td>0</td>\n",
       "      <td>0</td>\n",
       "      <td>0</td>\n",
       "      <td>...</td>\n",
       "      <td>0</td>\n",
       "      <td>0</td>\n",
       "      <td>1</td>\n",
       "      <td>0</td>\n",
       "      <td>0</td>\n",
       "      <td>0</td>\n",
       "      <td>0</td>\n",
       "      <td>0</td>\n",
       "      <td>0</td>\n",
       "      <td>1</td>\n",
       "    </tr>\n",
       "  </tbody>\n",
       "</table>\n",
       "<p>5 rows × 376 columns</p>\n",
       "</div>"
      ],
      "text/plain": [
       "   X49  X139  X46  X304  X27  X225  X116  X119  X169  X64  ...  X359  X369  \\\n",
       "0    0     0    1     0    0     0     1     1     0    0  ...     0     0   \n",
       "1    0     0    0     1    1     0     0     1     0    0  ...     0     0   \n",
       "2    0     0    1     1    1     0     0     0     1    0  ...     0     0   \n",
       "3    0     0    1     1    1     0     0     0     0    0  ...     0     0   \n",
       "4    0     0    1     1    1     0     0     0     0    0  ...     0     0   \n",
       "\n",
       "   X132  X90  X152  X176  X155  X83  X310  X150  \n",
       "0     0    0     0     0     0    0     0     1  \n",
       "1     1    0     0     0     0    0     0     1  \n",
       "2     1    0     0     0     0    0     0     1  \n",
       "3     1    0     0     0     0    0     0     1  \n",
       "4     1    0     0     0     0    0     0     1  \n",
       "\n",
       "[5 rows x 376 columns]"
      ]
     },
     "execution_count": 30,
     "metadata": {},
     "output_type": "execute_result"
    }
   ],
   "source": [
    "x_train.head()"
   ]
  },
  {
   "cell_type": "code",
   "execution_count": null,
   "id": "6d76ad26",
   "metadata": {},
   "outputs": [],
   "source": [
    "# Step9: Make sure the data is now changed into numericals"
   ]
  },
  {
   "cell_type": "code",
   "execution_count": 32,
   "id": "d7680b6f",
   "metadata": {},
   "outputs": [
    {
     "name": "stdout",
     "output_type": "stream",
     "text": [
      "Feature types:\n"
     ]
    },
    {
     "data": {
      "text/plain": [
       "int64    376\n",
       "dtype: int64"
      ]
     },
     "execution_count": 32,
     "metadata": {},
     "output_type": "execute_result"
    }
   ],
   "source": [
    "print('Feature types:')\n",
    "x_train[cols].dtypes.value_counts()"
   ]
  },
  {
   "cell_type": "code",
   "execution_count": null,
   "id": "ce3303a8",
   "metadata": {},
   "outputs": [],
   "source": [
    "# Step10: Perform dimensionality reduction\n",
    "# Linear dimensionality reduction using Singular Value Decomposition of \n",
    "# the data to project it to a lower dimensional space."
   ]
  },
  {
   "cell_type": "code",
   "execution_count": 33,
   "id": "9f8db530",
   "metadata": {},
   "outputs": [],
   "source": [
    "n_comp = 12\n",
    "pca = PCA(n_components=n_comp, random_state=420)\n",
    "pca2_results_train = pca.fit_transform(x_train)\n",
    "pca2_results_test = pca.transform(x_test)"
   ]
  },
  {
   "cell_type": "code",
   "execution_count": null,
   "id": "87ad60ba",
   "metadata": {},
   "outputs": [],
   "source": [
    "# Step11: Training using xgboost"
   ]
  },
  {
   "cell_type": "code",
   "execution_count": 38,
   "id": "57ccf385",
   "metadata": {},
   "outputs": [],
   "source": [
    "import xgboost as xgb\n",
    "from sklearn.metrics import r2_score\n",
    "from sklearn.model_selection import train_test_split"
   ]
  },
  {
   "cell_type": "code",
   "execution_count": 39,
   "id": "723fede9",
   "metadata": {},
   "outputs": [],
   "source": [
    "x_train, x_valid, y_train, y_valid = train_test_split(\n",
    "        pca2_results_train, \n",
    "        y_train, test_size=0.2, \n",
    "        random_state=4242)"
   ]
  },
  {
   "cell_type": "code",
   "execution_count": 40,
   "id": "0ab2ef6d",
   "metadata": {},
   "outputs": [],
   "source": [
    "d_train = xgb.DMatrix(x_train, label=y_train)\n",
    "d_valid = xgb.DMatrix(x_valid, label=y_valid)\n",
    "d_test = xgb.DMatrix(pca2_results_test)"
   ]
  },
  {
   "cell_type": "code",
   "execution_count": 41,
   "id": "4d5044b9",
   "metadata": {},
   "outputs": [],
   "source": [
    "params = {}\n",
    "params['objective'] = 'reg:linear'\n",
    "params['eta'] = 0.02\n",
    "params['max_depth'] = 4"
   ]
  },
  {
   "cell_type": "code",
   "execution_count": 42,
   "id": "67d15b65",
   "metadata": {},
   "outputs": [
    {
     "name": "stdout",
     "output_type": "stream",
     "text": [
      "[12:38:23] WARNING: C:/Users/Administrator/workspace/xgboost-win64_release_1.5.1/src/objective/regression_obj.cu:188: reg:linear is now deprecated in favor of reg:squarederror.\n",
      "[0]\ttrain-rmse:99.14835\ttrain-r2:-58.35295\tvalid-rmse:98.26297\tvalid-r2:-67.63754\n",
      "[10]\ttrain-rmse:81.27651\ttrain-r2:-38.88428\tvalid-rmse:80.36433\tvalid-r2:-44.91014\n",
      "[20]\ttrain-rmse:66.71610\ttrain-r2:-25.87403\tvalid-rmse:65.77334\tvalid-r2:-29.75260\n",
      "[30]\ttrain-rmse:54.86956\ttrain-r2:-17.17752\tvalid-rmse:53.88973\tvalid-r2:-19.64401\n",
      "[40]\ttrain-rmse:45.24491\ttrain-r2:-11.35979\tvalid-rmse:44.21971\tvalid-r2:-12.89996\n",
      "[50]\ttrain-rmse:37.44729\ttrain-r2:-7.46666\tvalid-rmse:36.37237\tvalid-r2:-8.40428\n",
      "[60]\ttrain-rmse:31.14748\ttrain-r2:-4.85757\tvalid-rmse:30.01874\tvalid-r2:-5.40570\n",
      "[70]\ttrain-rmse:26.08660\ttrain-r2:-3.10872\tvalid-rmse:24.90890\tvalid-r2:-3.41053\n",
      "[80]\ttrain-rmse:22.04638\ttrain-r2:-1.93458\tvalid-rmse:20.83274\tvalid-r2:-2.08514\n",
      "[90]\ttrain-rmse:18.84403\ttrain-r2:-1.14397\tvalid-rmse:17.60284\tvalid-r2:-1.20266\n",
      "[100]\ttrain-rmse:16.33631\ttrain-r2:-0.61131\tvalid-rmse:15.08470\tvalid-r2:-0.61754\n",
      "[110]\ttrain-rmse:14.40372\ttrain-r2:-0.25262\tvalid-rmse:13.14933\tvalid-r2:-0.22911\n",
      "[120]\ttrain-rmse:12.92871\ttrain-r2:-0.00921\tvalid-rmse:11.69356\tvalid-r2:0.02798\n",
      "[130]\ttrain-rmse:11.80812\ttrain-r2:0.15815\tvalid-rmse:10.62264\tvalid-r2:0.19787\n",
      "[140]\ttrain-rmse:10.98603\ttrain-r2:0.27129\tvalid-rmse:9.85900\tvalid-r2:0.30905\n",
      "[150]\ttrain-rmse:10.37399\ttrain-r2:0.35023\tvalid-rmse:9.33244\tvalid-r2:0.38088\n",
      "[160]\ttrain-rmse:9.92031\ttrain-r2:0.40581\tvalid-rmse:8.97088\tvalid-r2:0.42793\n",
      "[170]\ttrain-rmse:9.59074\ttrain-r2:0.44464\tvalid-rmse:8.72666\tvalid-r2:0.45865\n",
      "[180]\ttrain-rmse:9.34336\ttrain-r2:0.47292\tvalid-rmse:8.56907\tvalid-r2:0.47803\n",
      "[190]\ttrain-rmse:9.15816\ttrain-r2:0.49361\tvalid-rmse:8.46555\tvalid-r2:0.49056\n",
      "[200]\ttrain-rmse:9.01375\ttrain-r2:0.50945\tvalid-rmse:8.40445\tvalid-r2:0.49789\n",
      "[210]\ttrain-rmse:8.90230\ttrain-r2:0.52151\tvalid-rmse:8.35849\tvalid-r2:0.50336\n",
      "[220]\ttrain-rmse:8.82531\ttrain-r2:0.52975\tvalid-rmse:8.33605\tvalid-r2:0.50603\n",
      "[230]\ttrain-rmse:8.76746\ttrain-r2:0.53589\tvalid-rmse:8.32229\tvalid-r2:0.50766\n",
      "[240]\ttrain-rmse:8.71689\ttrain-r2:0.54123\tvalid-rmse:8.31577\tvalid-r2:0.50843\n",
      "[250]\ttrain-rmse:8.67717\ttrain-r2:0.54540\tvalid-rmse:8.30755\tvalid-r2:0.50940\n",
      "[260]\ttrain-rmse:8.64381\ttrain-r2:0.54889\tvalid-rmse:8.30698\tvalid-r2:0.50947\n",
      "[270]\ttrain-rmse:8.61462\ttrain-r2:0.55193\tvalid-rmse:8.30131\tvalid-r2:0.51014\n",
      "[280]\ttrain-rmse:8.58311\ttrain-r2:0.55520\tvalid-rmse:8.30115\tvalid-r2:0.51016\n",
      "[290]\ttrain-rmse:8.55390\ttrain-r2:0.55823\tvalid-rmse:8.30044\tvalid-r2:0.51024\n",
      "[300]\ttrain-rmse:8.53239\ttrain-r2:0.56044\tvalid-rmse:8.30094\tvalid-r2:0.51018\n",
      "[310]\ttrain-rmse:8.50149\ttrain-r2:0.56362\tvalid-rmse:8.29563\tvalid-r2:0.51081\n",
      "[320]\ttrain-rmse:8.47670\ttrain-r2:0.56617\tvalid-rmse:8.30120\tvalid-r2:0.51015\n",
      "[330]\ttrain-rmse:8.44919\ttrain-r2:0.56898\tvalid-rmse:8.29950\tvalid-r2:0.51035\n",
      "[340]\ttrain-rmse:8.42588\ttrain-r2:0.57135\tvalid-rmse:8.29867\tvalid-r2:0.51045\n",
      "[350]\ttrain-rmse:8.40057\ttrain-r2:0.57392\tvalid-rmse:8.29355\tvalid-r2:0.51105\n",
      "[360]\ttrain-rmse:8.37867\ttrain-r2:0.57614\tvalid-rmse:8.29397\tvalid-r2:0.51100\n",
      "[370]\ttrain-rmse:8.35279\ttrain-r2:0.57876\tvalid-rmse:8.29137\tvalid-r2:0.51131\n",
      "[380]\ttrain-rmse:8.32472\ttrain-r2:0.58158\tvalid-rmse:8.28906\tvalid-r2:0.51158\n",
      "[390]\ttrain-rmse:8.29677\ttrain-r2:0.58439\tvalid-rmse:8.28709\tvalid-r2:0.51181\n",
      "[400]\ttrain-rmse:8.27123\ttrain-r2:0.58694\tvalid-rmse:8.28402\tvalid-r2:0.51218\n",
      "[410]\ttrain-rmse:8.24677\ttrain-r2:0.58938\tvalid-rmse:8.28200\tvalid-r2:0.51241\n",
      "[420]\ttrain-rmse:8.21866\ttrain-r2:0.59218\tvalid-rmse:8.28065\tvalid-r2:0.51257\n",
      "[430]\ttrain-rmse:8.19960\ttrain-r2:0.59406\tvalid-rmse:8.27863\tvalid-r2:0.51281\n",
      "[440]\ttrain-rmse:8.17170\ttrain-r2:0.59682\tvalid-rmse:8.27696\tvalid-r2:0.51301\n",
      "[450]\ttrain-rmse:8.15002\ttrain-r2:0.59896\tvalid-rmse:8.27514\tvalid-r2:0.51322\n",
      "[460]\ttrain-rmse:8.12422\ttrain-r2:0.60149\tvalid-rmse:8.27799\tvalid-r2:0.51289\n",
      "[470]\ttrain-rmse:8.09748\ttrain-r2:0.60411\tvalid-rmse:8.27735\tvalid-r2:0.51296\n",
      "[480]\ttrain-rmse:8.07663\ttrain-r2:0.60615\tvalid-rmse:8.27544\tvalid-r2:0.51319\n",
      "[490]\ttrain-rmse:8.06222\ttrain-r2:0.60755\tvalid-rmse:8.27637\tvalid-r2:0.51307\n",
      "[493]\ttrain-rmse:8.05528\ttrain-r2:0.60823\tvalid-rmse:8.27648\tvalid-r2:0.51306\n"
     ]
    }
   ],
   "source": [
    "def xgb_r2_score(preds, dtrain):\n",
    "    labels = dtrain.get_label()\n",
    "    return 'r2', r2_score(labels, preds)\n",
    "\n",
    "watchlist = [(d_train, 'train'), (d_valid, 'valid')]\n",
    "\n",
    "clf = xgb.train(params, d_train, \n",
    "                1000, watchlist, early_stopping_rounds=50, \n",
    "                feval=xgb_r2_score, maximize=True, verbose_eval=10)"
   ]
  },
  {
   "cell_type": "code",
   "execution_count": null,
   "id": "ab6fb467",
   "metadata": {},
   "outputs": [],
   "source": [
    "# Step12: Predict your test_df values using xgboost"
   ]
  },
  {
   "cell_type": "code",
   "execution_count": 43,
   "id": "666df40d",
   "metadata": {},
   "outputs": [],
   "source": [
    "p_test = clf.predict(d_test)\n",
    "\n",
    "sub = pd.DataFrame()\n",
    "sub['ID'] = id_test\n",
    "sub['y'] = p_test\n",
    "sub.to_csv('xgb.csv', index=False)"
   ]
  },
  {
   "cell_type": "code",
   "execution_count": 44,
   "id": "2b3dea61",
   "metadata": {},
   "outputs": [
    {
     "data": {
      "text/html": [
       "<div>\n",
       "<style scoped>\n",
       "    .dataframe tbody tr th:only-of-type {\n",
       "        vertical-align: middle;\n",
       "    }\n",
       "\n",
       "    .dataframe tbody tr th {\n",
       "        vertical-align: top;\n",
       "    }\n",
       "\n",
       "    .dataframe thead th {\n",
       "        text-align: right;\n",
       "    }\n",
       "</style>\n",
       "<table border=\"1\" class=\"dataframe\">\n",
       "  <thead>\n",
       "    <tr style=\"text-align: right;\">\n",
       "      <th></th>\n",
       "      <th>ID</th>\n",
       "      <th>y</th>\n",
       "    </tr>\n",
       "  </thead>\n",
       "  <tbody>\n",
       "    <tr>\n",
       "      <th>0</th>\n",
       "      <td>1</td>\n",
       "      <td>82.619469</td>\n",
       "    </tr>\n",
       "    <tr>\n",
       "      <th>1</th>\n",
       "      <td>2</td>\n",
       "      <td>97.577888</td>\n",
       "    </tr>\n",
       "    <tr>\n",
       "      <th>2</th>\n",
       "      <td>3</td>\n",
       "      <td>83.218880</td>\n",
       "    </tr>\n",
       "    <tr>\n",
       "      <th>3</th>\n",
       "      <td>4</td>\n",
       "      <td>77.146393</td>\n",
       "    </tr>\n",
       "    <tr>\n",
       "      <th>4</th>\n",
       "      <td>5</td>\n",
       "      <td>112.477676</td>\n",
       "    </tr>\n",
       "  </tbody>\n",
       "</table>\n",
       "</div>"
      ],
      "text/plain": [
       "   ID           y\n",
       "0   1   82.619469\n",
       "1   2   97.577888\n",
       "2   3   83.218880\n",
       "3   4   77.146393\n",
       "4   5  112.477676"
      ]
     },
     "execution_count": 44,
     "metadata": {},
     "output_type": "execute_result"
    }
   ],
   "source": [
    "sub.head()"
   ]
  },
  {
   "cell_type": "code",
   "execution_count": null,
   "id": "b56cfd33",
   "metadata": {},
   "outputs": [],
   "source": []
  },
  {
   "cell_type": "code",
   "execution_count": null,
   "id": "fe426fbe",
   "metadata": {},
   "outputs": [],
   "source": []
  }
 ],
 "metadata": {
  "kernelspec": {
   "display_name": "Python 3 (ipykernel)",
   "language": "python",
   "name": "python3"
  },
  "language_info": {
   "codemirror_mode": {
    "name": "ipython",
    "version": 3
   },
   "file_extension": ".py",
   "mimetype": "text/x-python",
   "name": "python",
   "nbconvert_exporter": "python",
   "pygments_lexer": "ipython3",
   "version": "3.9.7"
  }
 },
 "nbformat": 4,
 "nbformat_minor": 5
}
